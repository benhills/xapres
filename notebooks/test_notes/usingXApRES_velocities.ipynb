{
 "cells": [
  {
   "cell_type": "markdown",
   "id": "1d963c17",
   "metadata": {},
   "source": [
    "# Using the XApRES package\n",
    "A guide to using the package XApRES to load and package together timeseries of ApRES datasets. "
   ]
  },
  {
   "cell_type": "markdown",
   "id": "048dd675",
   "metadata": {},
   "source": [
    "## Load the package and set up workspace"
   ]
  },
  {
   "cell_type": "code",
   "execution_count": 1,
   "id": "f6671217",
   "metadata": {
    "scrolled": false
   },
   "outputs": [],
   "source": [
    "import sys\n",
    "import os\n",
    "from pathlib import Path\n",
    "path = Path(sys.path[0])\n",
    "sys.path.append(os.path.join(path.parent.parent.absolute(),'src','XApRES'))\n",
    "import ApRESDefs\n",
    "import numpy as np\n",
    "import matplotlib.pyplot as plt\n"
   ]
  },
  {
   "cell_type": "code",
   "execution_count": 2,
   "id": "b2251d52",
   "metadata": {
    "scrolled": false
   },
   "outputs": [
    {
     "name": "stdout",
     "output_type": "stream",
     "text": [
      "DEBUG    18:29:07 \t ApRESDefs.py @function _setup_logging line 494 - Stream logging level set to DEBUG\n",
      "DEBUG    18:29:07 \t ApRESDefs.py @function _setup_logging line 495 - Add console handler to logger\n",
      "DEBUG    18:29:07 \t ApRESDefs.py @function _setup_logging line 508 - File logging level set to DEBUG\n"
     ]
    }
   ],
   "source": [
    "xa = ApRESDefs.xapres(loglevel='debug')"
   ]
  },
  {
   "cell_type": "code",
   "execution_count": null,
   "id": "aa59d2bc",
   "metadata": {
    "scrolled": false
   },
   "outputs": [
    {
     "name": "stdout",
     "output_type": "stream",
     "text": [
      "DEBUG    18:29:07 \t ApRESDefs.py @function list_files line 165 - Find all the dat files in the directory gs://ldeo-glaciology/GL_apres_2022 with remote_load = True\n"
     ]
    },
    {
     "name": "stderr",
     "output_type": "stream",
     "text": [
      "_request out of retries on exception: Cannot connect to host storage.googleapis.com:443 ssl:default [nodename nor servname provided, or not known]\n",
      "Traceback (most recent call last):\n",
      "  File \"/Users/georgelu/opt/anaconda3/envs/keras/lib/python3.10/site-packages/aiohttp/connector.py\", line 1154, in _create_direct_connection\n",
      "    hosts = await asyncio.shield(host_resolved)\n",
      "  File \"/Users/georgelu/opt/anaconda3/envs/keras/lib/python3.10/site-packages/aiohttp/connector.py\", line 880, in _resolve_host\n",
      "    addrs = await self._resolver.resolve(host, port, family=self._family)\n",
      "  File \"/Users/georgelu/opt/anaconda3/envs/keras/lib/python3.10/site-packages/aiohttp/resolver.py\", line 33, in resolve\n",
      "    infos = await self._loop.getaddrinfo(\n",
      "  File \"/Users/georgelu/opt/anaconda3/envs/keras/lib/python3.10/asyncio/base_events.py\", line 860, in getaddrinfo\n",
      "    return await self.run_in_executor(\n",
      "  File \"/Users/georgelu/opt/anaconda3/envs/keras/lib/python3.10/concurrent/futures/thread.py\", line 58, in run\n",
      "    result = self.fn(*self.args, **self.kwargs)\n",
      "  File \"/Users/georgelu/opt/anaconda3/envs/keras/lib/python3.10/socket.py\", line 955, in getaddrinfo\n",
      "    for res in _socket.getaddrinfo(host, port, family, type, proto, flags):\n",
      "socket.gaierror: [Errno 8] nodename nor servname provided, or not known\n",
      "\n",
      "The above exception was the direct cause of the following exception:\n",
      "\n",
      "Traceback (most recent call last):\n",
      "  File \"/Users/georgelu/opt/anaconda3/envs/keras/lib/python3.10/site-packages/gcsfs/retry.py\", line 115, in retry_request\n",
      "    return await func(*args, **kwargs)\n",
      "  File \"/Users/georgelu/opt/anaconda3/envs/keras/lib/python3.10/site-packages/gcsfs/core.py\", line 400, in _request\n",
      "    async with self.session.request(\n",
      "  File \"/Users/georgelu/opt/anaconda3/envs/keras/lib/python3.10/site-packages/aiohttp/client.py\", line 1138, in __aenter__\n",
      "    self._resp = await self._coro\n",
      "  File \"/Users/georgelu/opt/anaconda3/envs/keras/lib/python3.10/site-packages/aiohttp/client.py\", line 535, in _request\n",
      "    conn = await self._connector.connect(\n",
      "  File \"/Users/georgelu/opt/anaconda3/envs/keras/lib/python3.10/site-packages/aiohttp/connector.py\", line 542, in connect\n",
      "    proto = await self._create_connection(req, traces, timeout)\n",
      "  File \"/Users/georgelu/opt/anaconda3/envs/keras/lib/python3.10/site-packages/aiohttp/connector.py\", line 907, in _create_connection\n",
      "    _, proto = await self._create_direct_connection(req, traces, timeout)\n",
      "  File \"/Users/georgelu/opt/anaconda3/envs/keras/lib/python3.10/site-packages/aiohttp/connector.py\", line 1166, in _create_direct_connection\n",
      "    raise ClientConnectorError(req.connection_key, exc) from exc\n",
      "aiohttp.client_exceptions.ClientConnectorError: Cannot connect to host storage.googleapis.com:443 ssl:default [nodename nor servname provided, or not known]\n"
     ]
    }
   ],
   "source": [
    "filepaths = xa.list_files(directory='gs://ldeo-glaciology/GL_apres_2022', remote_load = True)\n",
    "filepaths[0:5]"
   ]
  },
  {
   "cell_type": "markdown",
   "id": "25541d38",
   "metadata": {},
   "source": [
    "## Load 3 Bursts"
   ]
  },
  {
   "cell_type": "code",
   "execution_count": null,
   "id": "f3abaca1",
   "metadata": {
    "scrolled": true
   },
   "outputs": [],
   "source": [
    "%%time \n",
    "import importlib\n",
    "importlib.reload(ApRESDefs)  \n",
    "xa = ApRESDefs.xapres(loglevel='debug', max_range=1400)\n",
    "xa.load_all(directory='gs://ldeo-glaciology/GL_apres_2022', \n",
    "            remote_load = True,\n",
    "            file_numbers_to_process = [1,2,3,200], \n",
    "            bursts_to_process=[0,1]\n",
    "           )\n",
    "xa.data"
   ]
  },
  {
   "cell_type": "markdown",
   "id": "14bc62be",
   "metadata": {},
   "source": [
    "## Stack bursts"
   ]
  },
  {
   "cell_type": "code",
   "execution_count": null,
   "id": "b4f1ab8b",
   "metadata": {
    "scrolled": false
   },
   "outputs": [],
   "source": [
    "# stack the data (this line stacks both the chirps and the profiles, but you could just do the profiles)\n",
    "stacked1 = xa.data.isel(time=0, attenuator_setting_pair=0).mean(dim='chirp_num')\n",
    "stacked2 = xa.data.isel(time=1, attenuator_setting_pair=0).mean(dim='chirp_num')\n",
    "stacked3 = xa.data.isel(time=6, attenuator_setting_pair=0).mean(dim='chirp_num')\n",
    "\n",
    "\n",
    "xa.dB(stacked1.profile).plot(label=stacked1.profile.time.data)\n",
    "xa.dB(stacked2.profile).plot(label=stacked2.profile.time.data)\n",
    "xa.dB(stacked3.profile).plot(label=stacked3.profile.time.data)\n",
    "plt.legend()\n",
    "plt.title('Range Profiles')\n"
   ]
  },
  {
   "cell_type": "markdown",
   "id": "b32b0b7d",
   "metadata": {},
   "source": [
    "## Calculate vertical velocities for a pair of stacked bursts\n",
    "The function looks like `generate_range_diff(self, data1, data2, win_cor, step, range_ext=None, win_wrap=10, thresh=0.9, uncertainty='noise_phasor')`. Changing the window for the coherence and the step creates pretty different results."
   ]
  },
  {
   "cell_type": "code",
   "execution_count": null,
   "id": "5e1873ee",
   "metadata": {},
   "outputs": [],
   "source": [
    "for step in [10,20]:\n",
    "    for win in [10,20,30]:\n",
    "        vels, ds = xa.generate_range_diff(stacked1.profile,stacked2.profile,win,step)\n",
    "        plt.plot(ds,vels,label=f'Coherence window: {win}, Coherence step: {step}')\n",
    "plt.xlabel('depth [m]')\n",
    "plt.ylabel('vertical velocity [m/s]')\n",
    "plt.legend()"
   ]
  },
  {
   "cell_type": "markdown",
   "id": "2345367a",
   "metadata": {},
   "source": [
    "With times split further apart, this windowing and step size has even more impact. "
   ]
  },
  {
   "cell_type": "code",
   "execution_count": null,
   "id": "53d51576",
   "metadata": {},
   "outputs": [],
   "source": [
    "for step in [10,20]:\n",
    "    for win in [10,20,30]:\n",
    "        vels, ds = xa.generate_range_diff(stacked1.profile,stacked3.profile,win,step)\n",
    "        plt.plot(ds,vels,label=f'Coherence window: {win}, Coherence step: {step}')\n",
    "plt.xlabel('depth [m]')\n",
    "plt.ylabel('vertical velocity [m/s]')\n",
    "plt.legend()"
   ]
  },
  {
   "cell_type": "markdown",
   "id": "888a7a2f",
   "metadata": {},
   "source": [
    "## Testing with multiple bursts in data"
   ]
  },
  {
   "cell_type": "markdown",
   "id": "533696e7",
   "metadata": {},
   "source": [
    "Given the example below, clearly at the moment something causes the range_diff calculation to collapse, perhaps it doesn't like working with dimensions. A possible solution is to have a for loop iterating through each pair to compare. This is simple to implement, but could be annoying with big data (though I see that in generating the xarrays, there's for loops anyways). Another solution that I need to sleep on is to modify the calculations form ImpDAR to accomodate the xarray structure (since currently it is only operating with numpy arrays). This may be a bit trickier as in I can't think of the immediate implementation. "
   ]
  },
  {
   "cell_type": "code",
   "execution_count": null,
   "id": "1958c66e",
   "metadata": {},
   "outputs": [],
   "source": [
    "stacked_arr1 = xa.data.isel(time=[0,1,2,3], attenuator_setting_pair=0).mean(dim='chirp_num')\n",
    "stacked_arr2 = xa.data.isel(time=[1,2,3,4], attenuator_setting_pair=0).mean(dim='chirp_num')"
   ]
  },
  {
   "cell_type": "code",
   "execution_count": null,
   "id": "3001d816",
   "metadata": {},
   "outputs": [],
   "source": [
    "vels, ds = xa.generate_range_diff(stacked_arr1.profile,stacked_arr2.profile,win,step)"
   ]
  },
  {
   "cell_type": "code",
   "execution_count": null,
   "id": "58ead63f",
   "metadata": {},
   "outputs": [],
   "source": [
    "vels"
   ]
  },
  {
   "cell_type": "code",
   "execution_count": null,
   "id": "970df1cb",
   "metadata": {},
   "outputs": [],
   "source": [
    "ds"
   ]
  },
  {
   "cell_type": "code",
   "execution_count": null,
   "id": "bdbb65f1",
   "metadata": {},
   "outputs": [],
   "source": []
  }
 ],
 "metadata": {
  "kernelspec": {
   "display_name": "Python 3 (ipykernel)",
   "language": "python",
   "name": "python3"
  },
  "language_info": {
   "codemirror_mode": {
    "name": "ipython",
    "version": 3
   },
   "file_extension": ".py",
   "mimetype": "text/x-python",
   "name": "python",
   "nbconvert_exporter": "python",
   "pygments_lexer": "ipython3",
   "version": "3.10.6"
  }
 },
 "nbformat": 4,
 "nbformat_minor": 5
}
